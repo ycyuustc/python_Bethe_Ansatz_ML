{
 "cells": [
  {
   "cell_type": "code",
   "execution_count": 1,
   "metadata": {},
   "outputs": [
    {
     "name": "stdout",
     "output_type": "stream",
     "text": [
      "[[4 3 2]\n",
      " [2 1 4]]\n",
      "[[1 1 0]\n",
      " [0 0 1]]\n",
      "[[2 3 4]\n",
      " [1 2 4]]\n",
      "[40 10 20 30]\n",
      "[1 2 3 0]\n"
     ]
    },
    {
     "data": {
      "text/plain": [
       "array([0.1676488 , 0.24427002, 0.29557565, 0.30678457, 0.36519453,\n",
       "       0.37509713, 0.42028519, 0.49700822, 0.56329004, 0.60220858,\n",
       "       0.61157793, 0.86227806, 0.87847817, 0.884491  ])"
      ]
     },
     "execution_count": 1,
     "metadata": {},
     "output_type": "execute_result"
    }
   ],
   "source": [
    "import matplotlib.pyplot as plt\n",
    "import numpy as np\n",
    "import sys\n",
    "pi = np.pi\n",
    "\n",
    "from IPython.display import Image\n",
    "PicPath='C:/Users/17613/Pictures/Jupyter/'\n",
    "\n",
    "\n",
    "list1 = [[4, 3, 2], [2, 1, 4]]\n",
    "\n",
    "array = np.array(list1)\n",
    "\n",
    "print(array)\n",
    "\n",
    "b = array.argsort(axis = 0)\n",
    "\n",
    "print(b)\n",
    "\n",
    "array.sort(axis = 1)\n",
    "\n",
    "print(array)\n",
    "\n",
    "\n",
    "\n",
    "list2 = [40, 10, 20, 30]\n",
    "array = np.array(list2)\n",
    "vsort = array.argsort()\n",
    "print(array)\n",
    "print(vsort)\n",
    "\n",
    "array[vsort]\n",
    "\n",
    "type(vsort)\n",
    "\n",
    "type(array)\n",
    "\n",
    "tv = np.random.rand(14)\n",
    "\n",
    "vsort = tv.argsort()\n",
    "\n",
    "tv[vsort]\n",
    "\n"
   ]
  },
  {
   "cell_type": "code",
   "execution_count": null,
   "metadata": {},
   "outputs": [],
   "source": []
  }
 ],
 "metadata": {
  "kernelspec": {
   "display_name": "Python 2",
   "language": "python",
   "name": "python2"
  },
  "language_info": {
   "codemirror_mode": {
    "name": "ipython",
    "version": 2
   },
   "file_extension": ".py",
   "mimetype": "text/x-python",
   "name": "python",
   "nbconvert_exporter": "python",
   "pygments_lexer": "ipython2",
   "version": "2.7.15"
  }
 },
 "nbformat": 4,
 "nbformat_minor": 2
}
