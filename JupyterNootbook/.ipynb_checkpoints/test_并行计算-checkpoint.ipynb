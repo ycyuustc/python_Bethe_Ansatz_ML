{
 "cells": [
  {
   "cell_type": "code",
   "execution_count": 3,
   "metadata": {},
   "outputs": [],
   "source": [
    "import multiprocessing\n",
    "import time\n",
    "import numpy as np\n",
    "#from func import writeln\n",
    "#from calc import calc\n",
    "import scipy.io as sio"
   ]
  },
  {
   "cell_type": "code",
   "execution_count": 4,
   "metadata": {},
   "outputs": [],
   "source": [
    "def writeln(x,y):\n",
    "    aa = x*10 + y\n",
    "    print(aa)\n",
    "    return(aa)"
   ]
  },
  {
   "cell_type": "code",
   "execution_count": 5,
   "metadata": {},
   "outputs": [],
   "source": [
    "def calc():\n",
    "    x=233\n",
    "    for i in xrange(1000000000):\n",
    "        x = x+1\n",
    "        x = x-1"
   ]
  },
  {
   "cell_type": "code",
   "execution_count": 6,
   "metadata": {},
   "outputs": [],
   "source": [
    "def func1(x):\n",
    "    calc()\n",
    "    c1 = 0\n",
    "    d1 = np.zeros(233,int)\n",
    "    for i in xrange(5):\n",
    "        d1[c1] = writeln(1,i)\n",
    "        c1 += 1\n",
    "    sio.savemat('11.mat', {'dd':d1})"
   ]
  },
  {
   "cell_type": "code",
   "execution_count": 7,
   "metadata": {},
   "outputs": [],
   "source": [
    "def func2(x):\n",
    "    calc()\n",
    "    c2 = 0\n",
    "    d2 = np.zeros(233,int)\n",
    "    for i in xrange(5):\n",
    "        d2[c2] = writeln(2,i)\n",
    "        c2 += 1\n",
    "    sio.savemat('22.mat', {'dd':d2})"
   ]
  },
  {
   "cell_type": "code",
   "execution_count": 8,
   "metadata": {},
   "outputs": [],
   "source": [
    "def func3(x):\n",
    "    calc()\n",
    "    c3 = 0\n",
    "    d3 = np.zeros(233,int)\n",
    "    for i in xrange(5):\n",
    "        d3[c2] = writeln(3,i)\n",
    "        c3 += 1\n",
    "    sio.savemat('33.mat', {'dd':d3})"
   ]
  },
  {
   "cell_type": "code",
   "execution_count": 9,
   "metadata": {},
   "outputs": [],
   "source": [
    "def func4(x):\n",
    "    calc()\n",
    "    c4 = 0\n",
    "    d4 = np.zeros(233,int)\n",
    "    for i in xrange(5):\n",
    "        d4[c4] = writeln(4,i)\n",
    "        c4 += 1\n",
    "    sio.savemat('44.mat', {'dd':d4})"
   ]
  },
  {
   "cell_type": "code",
   "execution_count": null,
   "metadata": {},
   "outputs": [],
   "source": [
    "if __name__==\"__main__\":\n",
    "    pool = multiprocessing.Pool(processes=4)\n",
    "    \n",
    "    pool.apply_async(func1, (1, ))\n",
    "    pool.apply_async(func2, (2, ))\n",
    "    pool.apply_async(func3, (3, ))\n",
    "    pool.apply_async(func4, (4, ))\n",
    "    \n",
    "    pool.close()\n",
    "    pool.join()d\n",
    "    \n",
    "    print(\"Sub-process(es) done.\")"
   ]
  },
  {
   "cell_type": "code",
   "execution_count": null,
   "metadata": {},
   "outputs": [],
   "source": []
  }
 ],
 "metadata": {
  "kernelspec": {
   "display_name": "Python 3",
   "language": "python",
   "name": "python3"
  },
  "language_info": {
   "codemirror_mode": {
    "name": "ipython",
    "version": 3
   },
   "file_extension": ".py",
   "mimetype": "text/x-python",
   "name": "python",
   "nbconvert_exporter": "python",
   "pygments_lexer": "ipython3",
   "version": "3.6.5"
  }
 },
 "nbformat": 4,
 "nbformat_minor": 2
}
