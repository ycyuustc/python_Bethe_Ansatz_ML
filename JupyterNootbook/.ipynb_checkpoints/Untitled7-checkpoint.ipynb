{
 "cells": [
  {
   "cell_type": "code",
   "execution_count": 36,
   "metadata": {},
   "outputs": [],
   "source": [
    "import numpy as np\n",
    "import matplotlib.pyplot as plt\n",
    "import random as rnd\n",
    "import multiprocessing as mp\n",
    "import time\n",
    "import pickle\n",
    "import os\n",
    "\n",
    "# global variable path\n",
    "MY_PATH = 'E:/pythondata/'\n",
    "FILE_HEADER = 'Num_10'\n",
    "\n",
    "Num0 = 10\n",
    "Num_iteration = 200\n",
    "Num = Num0 + 1\n",
    "Num_thread = 4\n",
    "\n",
    "list_X = list()\n",
    "list_y = list()\n",
    "for index in range(Num_thread):\n",
    "    for iIteration in range(Num_iteration):\n",
    "        file_name = (MY_PATH + FILE_HEADER + '_FULL_' + 'th_' + str(index)\n",
    "                     + '_it_' + str(iIteration))\n",
    "        with open(file_name, 'rb') as File:\n",
    "            mylist = pickle.load(File)\n",
    "        mylist_1 = mylist[0]\n",
    "        mylist_2 = mylist[1]\n",
    "        for iInd in range(Num):\n",
    "            list_X.append(mylist_1[iInd])\n",
    "            v_root = mylist_2[iInd]\n",
    "            myenergy = np.sum(v_root ** 2)\n",
    "            list_y.append(myenergy)\n",
    "\n",
    "ba_full_X = np.array(list_X)\n",
    "ba_full_y = np.array(list_y)\n",
    "\n",
    "list_X = list()\n",
    "list_y = list()\n",
    "for index in range(Num_thread):\n",
    "\n",
    "    file_name = MY_PATH + FILE_HEADER + '_th_' + str(index)\n",
    "    with open(file_name, 'rb') as File:\n",
    "        mylist = pickle.load(File)\n",
    "    mylist_1 = mylist[0]\n",
    "    mylist_2 = mylist[1]\n",
    "    for iIteration in range(Num_iteration):\n",
    "        list_X.append(mylist_1[iIteration])\n",
    "        v_root = mylist_2[iIteration]\n",
    "        myenergy = np.sum(v_root ** 2)\n",
    "        list_y.append(myenergy)\n",
    "\n",
    "ba_X = np.array(list_X)\n",
    "ba_y = np.array(list_y)\n",
    "\n",
    "file_name = (MY_PATH + FILE_HEADER + 'ba_Xy')\n",
    "with open(file_name, 'wb') as file:\n",
    "    mylist = [ba_X, ba_y]\n",
    "    pickle.dump(mylist, file)\n",
    "\n",
    "file_name = (MY_PATH + FILE_HEADER + 'ba_FULL_Xy')\n",
    "with open(file_name, 'wb') as file:\n",
    "    mylist = [ba_full_X, ba_full_y]\n",
    "    pickle.dump(mylist, file)"
   ]
  },
  {
   "cell_type": "code",
   "execution_count": 37,
   "metadata": {},
   "outputs": [],
   "source": [
    "import numpy as np\n",
    "from sklearn import datasets\n",
    "from sklearn.cross_validation import train_test_split\n",
    "from sklearn.linear_model import LinearRegression\n",
    "import matplotlib.pyplot as plt\n",
    "from sklearn import preprocessing\n",
    "import numpy as np\n",
    "from sklearn.cross_validation import train_test_split\n",
    "from sklearn.datasets.samples_generator import make_classification\n",
    "from sklearn.svm import SVC\n",
    "import matplotlib.pyplot as plt\n",
    "from sklearn.datasets import load_iris\n",
    "from sklearn.cross_validation import train_test_split\n",
    "from sklearn.neighbors import KNeighborsClassifier\n",
    "\n",
    "from sklearn.datasets import load_iris\n",
    "from sklearn.cross_validation import train_test_split\n",
    "from sklearn.learning_curve import validation_curve\n",
    "from sklearn.neighbors import KNeighborsClassifier\n",
    "from sklearn.datasets import load_digits\n",
    "from sklearn.svm import SVC\n",
    "from sklearn.learning_curve import learning_curve\n",
    "from sklearn.svm import SVR"
   ]
  },
  {
   "cell_type": "code",
   "execution_count": 41,
   "metadata": {},
   "outputs": [
    {
     "name": "stdout",
     "output_type": "stream",
     "text": [
      "SVR(C=1000000.0, cache_size=200, coef0=0.0, degree=3, epsilon=0.01,\n",
      "  gamma=0.00285, kernel='rbf', max_iter=-1, shrinking=True, tol=0.001,\n",
      "  verbose=False)\n"
     ]
    }
   ],
   "source": [
    "from __future__ import print_function\n",
    "\n",
    "from sklearn import datasets\n",
    "from sklearn.model_selection import train_test_split\n",
    "from sklearn.model_selection import GridSearchCV\n",
    "from sklearn.metrics import classification_report\n",
    "from sklearn.svm import SVC\n",
    "\n",
    "tuned_parameters = [{'kernel': ['rbf'], 'gamma': list(np.linspace(2.5e-3,3e-3,21)),\n",
    "                     'C': list(np.logspace(6, 6, 1)),\n",
    "                    'epsilon': list(np.logspace(-2, -2, 1))},\n",
    "                    {'kernel': ['linear'], 'C': [1, 10, 100, 1000]}]\n",
    "\n",
    "\n",
    "svr_rbf = GridSearchCV(estimator=SVR(), param_grid=tuned_parameters, cv=5, n_jobs=-1)\n",
    "svr_rbf.fit(ba_X, ba_y)\n",
    "\n",
    "mybest = svr_rbf.best_estimator_\n",
    "print(mybest)"
   ]
  },
  {
   "cell_type": "code",
   "execution_count": 32,
   "metadata": {},
   "outputs": [],
   "source": [
    "mybest2 = mybest"
   ]
  },
  {
   "cell_type": "code",
   "execution_count": 47,
   "metadata": {},
   "outputs": [
    {
     "data": {
      "text/plain": [
       "SVR(C=1000000.0, cache_size=200, coef0=0.0, degree=3, epsilon=0.01,\n",
       "  gamma=0.00285, kernel='rbf', max_iter=-1, shrinking=True, tol=0.001,\n",
       "  verbose=False)"
      ]
     },
     "execution_count": 47,
     "metadata": {},
     "output_type": "execute_result"
    }
   ],
   "source": [
    "mybest2.fit(ba_full_X, ba_full_y)\n",
    "mybest.fit(ba_X, ba_y)"
   ]
  },
  {
   "cell_type": "code",
   "execution_count": 48,
   "metadata": {},
   "outputs": [
    {
     "data": {
      "text/plain": [
       "array([ 48.12270215, 189.46037418, 189.46037418, 189.46037418,\n",
       "       145.04423175, 189.46037418, 189.46037418, 189.46037418,\n",
       "       189.46037418, 189.46037418])"
      ]
     },
     "execution_count": 48,
     "metadata": {},
     "output_type": "execute_result"
    }
   ],
   "source": [
    "mybest.predict(ba_X[0:10, :])"
   ]
  },
  {
   "cell_type": "code",
   "execution_count": 49,
   "metadata": {},
   "outputs": [
    {
     "data": {
      "text/plain": [
       "array([ 47.93694802, 189.22287293, 189.22287293, 189.22287293,\n",
       "       145.29251562, 189.22287293, 189.22287293, 189.22287293,\n",
       "       189.22287293, 189.22287293])"
      ]
     },
     "execution_count": 49,
     "metadata": {},
     "output_type": "execute_result"
    }
   ],
   "source": [
    "mybest2.predict(ba_X[0:10, :])"
   ]
  },
  {
   "cell_type": "code",
   "execution_count": 54,
   "metadata": {},
   "outputs": [
    {
     "data": {
      "text/plain": [
       "[<matplotlib.lines.Line2D at 0x1e8ccbadf28>]"
      ]
     },
     "execution_count": 54,
     "metadata": {},
     "output_type": "execute_result"
    },
    {
     "data": {
      "image/png": "[encoded data removed]",
      "text/plain": [
       "<Figure size 432x288 with 1 Axes>"
      ]
     },
     "metadata": {},
     "output_type": "display_data"
    }
   ],
   "source": [
    "train_sizes,train_loss,test_loss=learning_curve(\n",
    "    mybest, ba_X, ba_y, cv=5,  #scoring='mean_squared_error',\n",
    "    train_sizes=[0.1,0.25,0.5,0.75,1])\n",
    "train_loss_mean = np.mean(train_loss, axis=1)\n",
    "test_loss_mean = np.mean(test_loss, axis=1)\n",
    "\n",
    "plt.plot(train_sizes, train_loss_mean, 'o-', color='r', label='Training')\n",
    "plt.plot(train_sizes, test_loss_mean, 'o-', color='g', label='Testing')"
   ]
  },
  {
   "cell_type": "code",
   "execution_count": 55,
   "metadata": {},
   "outputs": [
    {
     "data": {
      "text/plain": [
       "[<matplotlib.lines.Line2D at 0x1e8d08a6828>]"
      ]
     },
     "execution_count": 55,
     "metadata": {},
     "output_type": "execute_result"
    },
    {
     "data": {
      "image/png": "[encoded data removed]",
      "text/plain": [
       "<Figure size 432x288 with 1 Axes>"
      ]
     },
     "metadata": {},
     "output_type": "display_data"
    }
   ],
   "source": [
    "train_sizes,train_loss,test_loss=learning_curve(\n",
    "    mybest2, ba_full_X, ba_full_y, cv=5,  #scoring='mean_squared_error',\n",
    "    train_sizes=list(np.linspace(0.1, 1, 20)))\n",
    "train_loss_mean = np.mean(train_loss, axis=1)\n",
    "test_loss_mean = np.mean(test_loss, axis=1)\n",
    "\n",
    "plt.plot(train_sizes, train_loss_mean, 'o-', color='r', label='Training')\n",
    "plt.plot(train_sizes, test_loss_mean, 'o-', color='g', label='Testing')"
   ]
  },
  {
   "cell_type": "code",
   "execution_count": 56,
   "metadata": {},
   "outputs": [
    {
     "name": "stderr",
     "output_type": "stream",
     "text": [
      "C:\\ProgramData\\Anaconda3\\lib\\site-packages\\h5py\\__init__.py:36: FutureWarning: Conversion of the second argument of issubdtype from `float` to `np.floating` is deprecated. In future, it will be treated as `np.float64 == np.dtype(float).type`.\n",
      "  from ._conv import register_converters as _register_converters\n"
     ]
    },
    {
     "data": {
      "image/png": "[encoded data removed]",
      "text/plain": [
       "<Figure size 432x288 with 1 Axes>"
      ]
     },
     "metadata": {},
     "output_type": "display_data"
    }
   ],
   "source": [
    "# 保存的成功案例。\n",
    "\n",
    "import tensorflow as tf\n",
    "import numpy as np\n",
    "\n",
    "x_data = np.linspace(-0.5, 0.5, 200)[:,np.newaxis]\n",
    "noise = np.random.normal(0, 0.02, x_data.shape)\n",
    "y_data = np.square(x_data) + noise\n",
    "\n",
    "x = tf.placeholder(tf.float32, [None,1])\n",
    "y = tf.placeholder(tf.float32, [None,1])\n",
    "\n",
    "Weight_L1 = tf.Variable(tf.random_normal([1,10]))\n",
    "biases_L1 = tf.Variable(tf.zeros([1,10]))\n",
    "Wx_plus_b_L1 = tf.matmul(x, Weight_L1) + biases_L1\n",
    "L1 = tf.nn.tanh(Wx_plus_b_L1)\n",
    "\n",
    "Weight_L2 = tf.Variable(tf.random_normal([10,1]))\n",
    "biases_L2 = tf.Variable(tf.zeros([1,1]))\n",
    "Wx_plus_b_L2 = tf.matmul(L1, Weight_L2) + biases_L2\n",
    "prediction = tf.nn.tanh(Wx_plus_b_L2)\n",
    "\n",
    "loss = tf.reduce_mean(tf.square(y-prediction))\n",
    "train_step = tf.train.GradientDescentOptimizer(0.1).minimize(loss)\n",
    "\n",
    "init = tf.global_variables_initializer()\n",
    "\n",
    "with tf.Session() as sess:\n",
    "    sess.run(init)\n",
    "    for _ in range(2000):\n",
    "        sess.run(train_step, feed_dict={x:x_data, y:y_data})\n",
    "    \n",
    "    prediction_value = sess.run(prediction, feed_dict={x:x_data})\n",
    "    plt.figure()\n",
    "    plt.scatter(x_data, y_data)\n",
    "    plt.plot(x_data, prediction_value, 'r-', lw=5)\n",
    "    plt.show()"
   ]
  },
  {
   "cell_type": "code",
   "execution_count": 57,
   "metadata": {},
   "outputs": [
    {
     "name": "stdout",
     "output_type": "stream",
     "text": [
      "WARNING:tensorflow:From <ipython-input-57-43ae3c9d8e32>:4: read_data_sets (from tensorflow.contrib.learn.python.learn.datasets.mnist) is deprecated and will be removed in a future version.\n",
      "Instructions for updating:\n",
      "Please use alternatives such as official/mnist/dataset.py from tensorflow/models.\n",
      "WARNING:tensorflow:From C:\\ProgramData\\Anaconda3\\lib\\site-packages\\tensorflow\\contrib\\learn\\python\\learn\\datasets\\mnist.py:260: maybe_download (from tensorflow.contrib.learn.python.learn.datasets.base) is deprecated and will be removed in a future version.\n",
      "Instructions for updating:\n",
      "Please write your own downloading logic.\n",
      "WARNING:tensorflow:From C:\\ProgramData\\Anaconda3\\lib\\site-packages\\tensorflow\\contrib\\learn\\python\\learn\\datasets\\mnist.py:262: extract_images (from tensorflow.contrib.learn.python.learn.datasets.mnist) is deprecated and will be removed in a future version.\n",
      "Instructions for updating:\n",
      "Please use tf.data to implement this functionality.\n",
      "Extracting MINIST_data\\train-images-idx3-ubyte.gz\n",
      "WARNING:tensorflow:From C:\\ProgramData\\Anaconda3\\lib\\site-packages\\tensorflow\\contrib\\learn\\python\\learn\\datasets\\mnist.py:267: extract_labels (from tensorflow.contrib.learn.python.learn.datasets.mnist) is deprecated and will be removed in a future version.\n",
      "Instructions for updating:\n",
      "Please use tf.data to implement this functionality.\n",
      "Extracting MINIST_data\\train-labels-idx1-ubyte.gz\n",
      "WARNING:tensorflow:From C:\\ProgramData\\Anaconda3\\lib\\site-packages\\tensorflow\\contrib\\learn\\python\\learn\\datasets\\mnist.py:110: dense_to_one_hot (from tensorflow.contrib.learn.python.learn.datasets.mnist) is deprecated and will be removed in a future version.\n",
      "Instructions for updating:\n",
      "Please use tf.one_hot on tensors.\n",
      "Extracting MINIST_data\\t10k-images-idx3-ubyte.gz\n",
      "Extracting MINIST_data\\t10k-labels-idx1-ubyte.gz\n",
      "WARNING:tensorflow:From C:\\ProgramData\\Anaconda3\\lib\\site-packages\\tensorflow\\contrib\\learn\\python\\learn\\datasets\\mnist.py:290: DataSet.__init__ (from tensorflow.contrib.learn.python.learn.datasets.mnist) is deprecated and will be removed in a future version.\n",
      "Instructions for updating:\n",
      "Please use alternatives such as official/mnist/dataset.py from tensorflow/models.\n",
      "WARNING:tensorflow:From <ipython-input-57-43ae3c9d8e32>:47: softmax_cross_entropy_with_logits (from tensorflow.python.ops.nn_ops) is deprecated and will be removed in a future version.\n",
      "Instructions for updating:\n",
      "\n",
      "Future major versions of TensorFlow will allow gradients to flow\n",
      "into the labels input on backprop by default.\n",
      "\n",
      "See @{tf.nn.softmax_cross_entropy_with_logits_v2}.\n",
      "\n",
      "Iter 0 , testing accuracy 0.949training accuracy0.95347273\n",
      "Iter 1 , testing accuracy 0.9615training accuracy0.9692909\n",
      "Iter 2 , testing accuracy 0.9637training accuracy0.97263634\n",
      "Iter 3 , testing accuracy 0.9671training accuracy0.98005456\n",
      "Iter 4 , testing accuracy 0.9705training accuracy0.98301816\n",
      "Iter 5 , testing accuracy 0.9691training accuracy0.98356366\n",
      "Iter 6 , testing accuracy 0.9733training accuracy0.9887818\n",
      "Iter 7 , testing accuracy 0.9752training accuracy0.99012727\n",
      "Iter 8 , testing accuracy 0.9777training accuracy0.99176365\n",
      "Iter 9 , testing accuracy 0.9763training accuracy0.9920545\n",
      "Iter 10 , testing accuracy 0.9751training accuracy0.99163634\n",
      "Iter 11 , testing accuracy 0.9789training accuracy0.9936182\n",
      "Iter 12 , testing accuracy 0.9771training accuracy0.9942727\n",
      "Iter 13 , testing accuracy 0.9792training accuracy0.99472725\n",
      "Iter 14 , testing accuracy 0.9768training accuracy0.9944\n",
      "Iter 15 , testing accuracy 0.9774training accuracy0.9954\n",
      "Iter 16 , testing accuracy 0.9801training accuracy0.99587274\n",
      "Iter 17 , testing accuracy 0.9801training accuracy0.99625456\n",
      "Iter 18 , testing accuracy 0.9791training accuracy0.99636364\n",
      "Iter 19 , testing accuracy 0.9802training accuracy0.9964727\n",
      "Iter 20 , testing accuracy 0.9767training accuracy0.9959818\n",
      "Iter 21 , testing accuracy 0.9784training accuracy0.9964727\n",
      "Iter 22 , testing accuracy 0.9791training accuracy0.99654543\n",
      "Iter 23 , testing accuracy 0.9797training accuracy0.9968727\n",
      "Iter 24 , testing accuracy 0.9803training accuracy0.9969636\n",
      "Iter 25 , testing accuracy 0.9798training accuracy0.9972182\n",
      "Iter 26 , testing accuracy 0.9788training accuracy0.99707276\n",
      "Iter 27 , testing accuracy 0.9796training accuracy0.99734545\n",
      "Iter 28 , testing accuracy 0.9795training accuracy0.99692726\n",
      "Iter 29 , testing accuracy 0.9798training accuracy0.9974545\n",
      "Iter 30 , testing accuracy 0.9806training accuracy0.9973818\n"
     ]
    }
   ],
   "source": [
    "# 保存的成功的案例\n",
    "# 成功\n",
    "# 造出了98%的识别率。 较大网络，学习率递降。\n",
    "from tensorflow.examples.tutorials.mnist import input_data\n",
    "mnist = input_data.read_data_sets(\"MINIST_data\", one_hot=True)\n",
    "\n",
    "# 每个批次的大小 每次放入100张图片\n",
    "batch_size = 100\n",
    "# 计算一共有多少个批次\n",
    "n_batch = mnist.train.num_examples // batch_size  # 整除\n",
    "\n",
    "x = tf.placeholder(tf.float32, [None, 784])\n",
    "y = tf.placeholder(tf.float32, [None, 10])\n",
    "keep_prob = tf.placeholder(tf.float32)\n",
    "lr = tf.Variable(0.001, dtype = tf.float32)\n",
    "\n",
    "#创建神经网路\n",
    "\n",
    "Weight_L1 = tf.Variable(tf.truncated_normal([784,500], stddev=0.1))\n",
    "biases_L1 = tf.Variable(tf.zeros([1,500]) + 0.1)\n",
    "Wx_plus_b_L1 = tf.matmul(x, Weight_L1) + biases_L1\n",
    "L1 = tf.nn.tanh(Wx_plus_b_L1)\n",
    "L1_drop = tf.nn.dropout(L1, keep_prob)\n",
    "\n",
    "Weight_L2 = tf.Variable(tf.truncated_normal([500,300], stddev=0.1))\n",
    "biases_L2 = tf.Variable(tf.zeros([1,300]) + 0.1)\n",
    "Wx_plus_b_L2 = tf.matmul(L1_drop, Weight_L2) + biases_L2\n",
    "L2 = tf.nn.tanh(Wx_plus_b_L2)\n",
    "L2_drop = tf.nn.dropout(L2, keep_prob)\n",
    "\n",
    "Weight_L3 = tf.Variable(tf.truncated_normal([300,100], stddev=0.1))\n",
    "biases_L3 = tf.Variable(tf.zeros([1,100]) + 0.1)\n",
    "Wx_plus_b_L3 = tf.matmul(L2_drop, Weight_L3) + biases_L3\n",
    "L3 = tf.nn.tanh(Wx_plus_b_L3)\n",
    "L3_drop = tf.nn.dropout(L3, keep_prob)\n",
    "\n",
    "Weight_L4 = tf.Variable(tf.truncated_normal([100,10], stddev=0.1))\n",
    "biases_L4 = tf.Variable(tf.zeros([1,10]) + 0.1)\n",
    "Wx_plus_b_L4 = tf.matmul(L3_drop, Weight_L4) + biases_L4\n",
    "\n",
    "\n",
    "prediction = tf.nn.softmax(Wx_plus_b_L4)\n",
    "\n",
    "\n",
    "# 二次代价函数\n",
    "#loss = tf.reduce_mean(tf.square(y-prediction))\n",
    "# 交叉熵代价函数\n",
    "loss = tf.reduce_mean(tf.nn.softmax_cross_entropy_with_logits(labels=y, logits=prediction))\n",
    "\n",
    "train_step = tf.train.AdamOptimizer(lr).minimize(loss)\n",
    "\n",
    "init = tf.global_variables_initializer()\n",
    "\n",
    "correct_prediction = tf.equal(tf.argmax(y,1), tf.argmax(prediction,1))\n",
    "\n",
    "accuracy = tf.reduce_mean(tf.cast(correct_prediction, tf.float32))\n",
    "\n",
    "with tf.Session() as sess:\n",
    "    sess.run(init)\n",
    "    for epoch in range(31):\n",
    "        sess.run(tf.assign(lr, 0.001*(0.95**epoch)))\n",
    "        for batch in range(n_batch):\n",
    "            batch_xs, batch_ys = mnist.train.next_batch(batch_size)\n",
    "            sess.run(train_step, feed_dict={x:batch_xs, y:batch_ys, keep_prob:1.0})\n",
    "            \n",
    "        test_acc = sess.run(accuracy, feed_dict={x:mnist.test.images, y:mnist.test.labels, keep_prob:1.0})\n",
    "        train_acc = sess.run(accuracy, feed_dict={x:mnist.train.images, y:mnist.train.labels, keep_prob:1.0})\n",
    "        print(\"Iter \" +str(epoch) + \" , testing accuracy \" + str(test_acc) + \"training accuracy\" + str(train_acc))"
   ]
  },
  {
   "cell_type": "code",
   "execution_count": 58,
   "metadata": {},
   "outputs": [],
   "source": [
    "X_train,X_test,y_train,y_test = train_test_split(ba_X, ba_y, test_size=0.3) #分开学习和测试的数据"
   ]
  },
  {
   "cell_type": "code",
   "execution_count": 72,
   "metadata": {},
   "outputs": [
    {
     "ename": "ValueError",
     "evalue": "Cannot feed value of shape (800,) for Tensor 'Placeholder_12:0', which has shape '(?, 1)'",
     "output_type": "error",
     "traceback": [
      "\u001b[1;31m---------------------------------------------------------------------------\u001b[0m",
      "\u001b[1;31mValueError\u001b[0m                                Traceback (most recent call last)",
      "\u001b[1;32m<ipython-input-72-b67391f60b73>\u001b[0m in \u001b[0;36m<module>\u001b[1;34m()\u001b[0m\n\u001b[0;32m     71\u001b[0m     \u001b[0msess\u001b[0m\u001b[1;33m.\u001b[0m\u001b[0mrun\u001b[0m\u001b[1;33m(\u001b[0m\u001b[0minit\u001b[0m\u001b[1;33m)\u001b[0m\u001b[1;33m\u001b[0m\u001b[0m\n\u001b[0;32m     72\u001b[0m     \u001b[1;32mfor\u001b[0m \u001b[0m_\u001b[0m \u001b[1;32min\u001b[0m \u001b[0mrange\u001b[0m\u001b[1;33m(\u001b[0m\u001b[1;36m200\u001b[0m\u001b[1;33m)\u001b[0m\u001b[1;33m:\u001b[0m\u001b[1;33m\u001b[0m\u001b[0m\n\u001b[1;32m---> 73\u001b[1;33m         \u001b[0msess\u001b[0m\u001b[1;33m.\u001b[0m\u001b[0mrun\u001b[0m\u001b[1;33m(\u001b[0m\u001b[0mtrain_step\u001b[0m\u001b[1;33m,\u001b[0m \u001b[0mfeed_dict\u001b[0m\u001b[1;33m=\u001b[0m\u001b[1;33m{\u001b[0m\u001b[0mx\u001b[0m\u001b[1;33m:\u001b[0m\u001b[0mba_X\u001b[0m\u001b[1;33m,\u001b[0m \u001b[0my\u001b[0m\u001b[1;33m:\u001b[0m\u001b[0mba_y\u001b[0m\u001b[1;33m}\u001b[0m\u001b[1;33m)\u001b[0m\u001b[1;33m\u001b[0m\u001b[0m\n\u001b[0m\u001b[0;32m     74\u001b[0m \u001b[1;33m\u001b[0m\u001b[0m\n\u001b[0;32m     75\u001b[0m         \u001b[1;31m# prediction_value = sess.run(prediction, feed_dict={x:x_data})\u001b[0m\u001b[1;33m\u001b[0m\u001b[1;33m\u001b[0m\u001b[0m\n",
      "\u001b[1;32mC:\\ProgramData\\Anaconda3\\lib\\site-packages\\tensorflow\\python\\client\\session.py\u001b[0m in \u001b[0;36mrun\u001b[1;34m(self, fetches, feed_dict, options, run_metadata)\u001b[0m\n\u001b[0;32m    875\u001b[0m     \u001b[1;32mtry\u001b[0m\u001b[1;33m:\u001b[0m\u001b[1;33m\u001b[0m\u001b[0m\n\u001b[0;32m    876\u001b[0m       result = self._run(None, fetches, feed_dict, options_ptr,\n\u001b[1;32m--> 877\u001b[1;33m                          run_metadata_ptr)\n\u001b[0m\u001b[0;32m    878\u001b[0m       \u001b[1;32mif\u001b[0m \u001b[0mrun_metadata\u001b[0m\u001b[1;33m:\u001b[0m\u001b[1;33m\u001b[0m\u001b[0m\n\u001b[0;32m    879\u001b[0m         \u001b[0mproto_data\u001b[0m \u001b[1;33m=\u001b[0m \u001b[0mtf_session\u001b[0m\u001b[1;33m.\u001b[0m\u001b[0mTF_GetBuffer\u001b[0m\u001b[1;33m(\u001b[0m\u001b[0mrun_metadata_ptr\u001b[0m\u001b[1;33m)\u001b[0m\u001b[1;33m\u001b[0m\u001b[0m\n",
      "\u001b[1;32mC:\\ProgramData\\Anaconda3\\lib\\site-packages\\tensorflow\\python\\client\\session.py\u001b[0m in \u001b[0;36m_run\u001b[1;34m(self, handle, fetches, feed_dict, options, run_metadata)\u001b[0m\n\u001b[0;32m   1074\u001b[0m                              \u001b[1;34m'which has shape %r'\u001b[0m \u001b[1;33m%\u001b[0m\u001b[1;33m\u001b[0m\u001b[0m\n\u001b[0;32m   1075\u001b[0m                              (np_val.shape, subfeed_t.name,\n\u001b[1;32m-> 1076\u001b[1;33m                               str(subfeed_t.get_shape())))\n\u001b[0m\u001b[0;32m   1077\u001b[0m           \u001b[1;32mif\u001b[0m \u001b[1;32mnot\u001b[0m \u001b[0mself\u001b[0m\u001b[1;33m.\u001b[0m\u001b[0mgraph\u001b[0m\u001b[1;33m.\u001b[0m\u001b[0mis_feedable\u001b[0m\u001b[1;33m(\u001b[0m\u001b[0msubfeed_t\u001b[0m\u001b[1;33m)\u001b[0m\u001b[1;33m:\u001b[0m\u001b[1;33m\u001b[0m\u001b[0m\n\u001b[0;32m   1078\u001b[0m             \u001b[1;32mraise\u001b[0m \u001b[0mValueError\u001b[0m\u001b[1;33m(\u001b[0m\u001b[1;34m'Tensor %s may not be fed.'\u001b[0m \u001b[1;33m%\u001b[0m \u001b[0msubfeed_t\u001b[0m\u001b[1;33m)\u001b[0m\u001b[1;33m\u001b[0m\u001b[0m\n",
      "\u001b[1;31mValueError\u001b[0m: Cannot feed value of shape (800,) for Tensor 'Placeholder_12:0', which has shape '(?, 1)'"
     ]
    }
   ],
   "source": [
    "from tensorflow.examples.tutorials.mnist import input_data\n",
    "\n",
    "X_train,X_test,y_train,y_test = train_test_split(ba_X, ba_y, test_size=0.3) #分开学习和测试的数据\n",
    "y_train = y_train.reshape([y_train.__len__(), 1])\n",
    "y_test = y_test.reshape([y_test.__len__(), 1])\n",
    "\n",
    "\n",
    "# 每个批次的大小 每次放入100 个数据\n",
    "batch_size = 100\n",
    "# 计算一共有多少个批次\n",
    "num_train,num_dimension = X_train.shape\n",
    "n_batch = num_train // batch_size  # 整除\n",
    "\n",
    "\n",
    "# 定义神经网络的结构\n",
    "num_layer_1 = 100\n",
    "num_layer_2 = 100\n",
    "num_layer_3 = 10\n",
    "num_layer_4 = 1\n",
    "\n",
    "# placeholder\n",
    "x = tf.placeholder(tf.float32, [None, num_dimension])\n",
    "y = tf.placeholder(tf.float32, [None, 1])\n",
    "keep_prob = tf.placeholder(tf.float32)\n",
    "lr = tf.Variable(0.001, dtype = tf.float32)\n",
    "\n",
    "# 创建神经网路\n",
    "\n",
    "# 第一个中间层， num_dimension 入， num_layer_1 出\n",
    "Weight_L1 = tf.Variable(tf.truncated_normal([num_dimension, num_layer_1], stddev=0.1))\n",
    "biases_L1 = tf.Variable(tf.zeros([1,num_layer_1]) + 0.1)\n",
    "Wx_plus_b_L1 = tf.matmul(x, Weight_L1) + biases_L1\n",
    "L1 = tf.nn.tanh(Wx_plus_b_L1)\n",
    "L1_drop = tf.nn.dropout(L1, keep_prob)\n",
    "\n",
    "# 第二个中间层， num_layer_1 入， num_layer_2 出\n",
    "Weight_L2 = tf.Variable(tf.truncated_normal([num_layer_1, num_layer_2], stddev=0.1))\n",
    "biases_L2 = tf.Variable(tf.zeros([1, num_layer_2]) + 0.1)\n",
    "Wx_plus_b_L2 = tf.matmul(L1_drop, Weight_L2) + biases_L2\n",
    "L2 = tf.nn.tanh(Wx_plus_b_L2)\n",
    "L2_drop = tf.nn.dropout(L2, keep_prob)\n",
    "\n",
    "# 第三个中间层， num_layer_2 入， num_layer_3 出\n",
    "Weight_L3 = tf.Variable(tf.truncated_normal([num_layer_2, num_layer_3], stddev=0.1))\n",
    "biases_L3 = tf.Variable(tf.zeros([1, num_layer_3]) + 0.1)\n",
    "Wx_plus_b_L3 = tf.matmul(L2_drop, Weight_L3) + biases_L3\n",
    "L3 = tf.nn.tanh(Wx_plus_b_L3)\n",
    "L3_drop = tf.nn.dropout(L3, keep_prob)\n",
    "\n",
    "# 第三个中间层， num_layer_3 入， num_layer_4 出\n",
    "Weight_L4 = tf.Variable(tf.truncated_normal([num_layer_3, num_layer_4], stddev=0.1))\n",
    "biases_L4 = tf.Variable(tf.zeros([1, num_layer_4]) + 0.1)\n",
    "Wx_plus_b_L4 = tf.matmul(L3_drop, Weight_L4) + biases_L4\n",
    "\n",
    "\n",
    "prediction = tf.reduce_sum(Wx_plus_b_L4)\n",
    "\n",
    "\n",
    "# 二次代价函数\n",
    "loss = tf.reduce_mean(tf.square(y - prediction))\n",
    "\n",
    "train_step = tf.train.GradientDescentOptimizer(0.1).minimize(loss)\n",
    "\n",
    "init = tf.global_variables_initializer()\n",
    "\n",
    "# correct_prediction = tf.equal(tf.argmax(y,1), tf.argmax(prediction,1))\n",
    "\n",
    "# accuracy = tf.reduce_mean(tf.cast(correct_prediction, tf.float32))\n",
    "\n",
    "with tf.Session() as sess:\n",
    "    sess.run(init)\n",
    "    for _ in range(200):\n",
    "        sess.run(train_step, feed_dict={x:ba_X, y:ba_y})\n",
    "    \n",
    "        # prediction_value = sess.run(prediction, feed_dict={x:x_data})\n",
    "        test_acc = sess.run(accuracy, feed_dict={x:X_test, y:y_test, keep_prob:1.0})\n",
    "        train_acc = sess.run(accuracy, feed_dict={x:X_train, y:y_train, keep_prob:1.0})\n",
    "        print(\"Iter \" +str(epoch) + \" , testing accuracy \" + str(test_acc) + \"training accuracy\" + str(train_acc))\n"
   ]
  },
  {
   "cell_type": "code",
   "execution_count": 65,
   "metadata": {},
   "outputs": [],
   "source": [
    "x,y = X_train.shape"
   ]
  },
  {
   "cell_type": "code",
   "execution_count": 66,
   "metadata": {},
   "outputs": [
    {
     "data": {
      "text/plain": [
       "11"
      ]
     },
     "execution_count": 66,
     "metadata": {},
     "output_type": "execute_result"
    }
   ],
   "source": [
    "y"
   ]
  },
  {
   "cell_type": "code",
   "execution_count": 71,
   "metadata": {},
   "outputs": [
    {
     "data": {
      "text/plain": [
       "240"
      ]
     },
     "execution_count": 71,
     "metadata": {},
     "output_type": "execute_result"
    }
   ],
   "source": [
    "y_test.__len__()"
   ]
  },
  {
   "cell_type": "code",
   "execution_count": null,
   "metadata": {},
   "outputs": [],
   "source": []
  }
 ],
 "metadata": {
  "kernelspec": {
   "display_name": "Python 3",
   "language": "python",
   "name": "python3"
  },
  "language_info": {
   "codemirror_mode": {
    "name": "ipython",
    "version": 3
   },
   "file_extension": ".py",
   "mimetype": "text/x-python",
   "name": "python",
   "nbconvert_exporter": "python",
   "pygments_lexer": "ipython3",
   "version": "3.6.5"
  }
 },
 "nbformat": 4,
 "nbformat_minor": 2
}
