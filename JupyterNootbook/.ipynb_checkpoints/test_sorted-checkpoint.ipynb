{
 "cells": [
  {
   "cell_type": "code",
   "execution_count": 2,
   "metadata": {},
   "outputs": [
    {
     "name": "stdout",
     "output_type": "stream",
     "text": [
      "[[4 3 2]\n",
      " [2 1 4]]\n",
      "[[1 1 0]\n",
      " [0 0 1]]\n",
      "[[2 3 4]\n",
      " [1 2 4]]\n",
      "[40 10 20 30]\n",
      "[1 2 3 0]\n"
     ]
    },
    {
     "data": {
      "text/plain": [
       "array([0.00353193, 0.37223955, 0.4133342 , 0.42478952, 0.42538275,\n",
       "       0.46807055, 0.47707202, 0.49802028, 0.61296124, 0.80860338,\n",
       "       0.81677985, 0.84265536, 0.85576713, 0.9616722 ])"
      ]
     },
     "execution_count": 2,
     "metadata": {},
     "output_type": "execute_result"
    }
   ],
   "source": [
    "import matplotlib.pyplot as plt\n",
    "import numpy as np\n",
    "import sys\n",
    "pi = np.pi\n",
    "\n",
    "from IPython.display import Image\n",
    "PicPath='C:/Users/17613/Pictures/Jupyter/'\n",
    "\n",
    "\n",
    "list1 = [[4, 3, 2], [2, 1, 4]]\n",
    "\n",
    "array = np.array(list1)\n",
    "\n",
    "print(array)\n",
    "\n",
    "b = array.argsort(axis = 0)\n",
    "\n",
    "print(b)\n",
    "\n",
    "array.sort(axis = 1)\n",
    "\n",
    "print(array)\n",
    "\n",
    "\n",
    "\n",
    "list2 = [40, 10, 20, 30]\n",
    "array = np.array(list2)\n",
    "vsort = array.argsort()\n",
    "print(array)\n",
    "print(vsort)\n",
    "\n",
    "array[vsort]\n",
    "\n",
    "type(vsort)\n",
    "\n",
    "type(array)\n",
    "\n",
    "tv = np.random.rand(14)\n",
    "\n",
    "vsort = tv.argsort()\n",
    "\n",
    "tv[vsort]\n",
    "\n"
   ]
  },
  {
   "cell_type": "code",
   "execution_count": null,
   "metadata": {},
   "outputs": [],
   "source": []
  }
 ],
 "metadata": {
  "kernelspec": {
   "display_name": "Python 2",
   "language": "python",
   "name": "python2"
  }
 },
 "nbformat": 4,
 "nbformat_minor": 2
}
